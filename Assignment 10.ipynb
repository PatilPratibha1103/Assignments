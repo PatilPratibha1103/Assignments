{
 "cells": [
  {
   "cell_type": "markdown",
   "metadata": {},
   "source": [
    "#### How do you distinguish between shutil.copy() and shutil.copytree()?"
   ]
  },
  {
   "cell_type": "markdown",
   "metadata": {},
   "source": [
    "#### Answer :  shutil.copy() will copy singe to the destination folder and  shutil.copytree() entire folder i.e. all the files and folders inside the source folder to destination folder."
   ]
  },
  {
   "cell_type": "markdown",
   "metadata": {},
   "source": [
    "#### What function is used to rename files??"
   ]
  },
  {
   "cell_type": "markdown",
   "metadata": {},
   "source": [
    "#### Answer : os.rename(src,dst) is used to rename the file"
   ]
  },
  {
   "cell_type": "markdown",
   "metadata": {},
   "source": [
    "#### What is the difference between the delete functions in the send2trash and shutil modules?"
   ]
  },
  {
   "cell_type": "markdown",
   "metadata": {},
   "source": [
    "#### Answer : The send2trash functions will move a file or folder to the recycle bin, while shutil functions will permanently delete files and folders.\n"
   ]
  },
  {
   "cell_type": "markdown",
   "metadata": {},
   "source": [
    "#### 4.ZipFile objects have a close() method just like File objects’ close() method. What ZipFile method is equivalent to File objects’ open() method?"
   ]
  },
  {
   "cell_type": "markdown",
   "metadata": {},
   "source": [
    "#### Answer : To create ZIP files, we must open the ZipFile object in write mode by passing 'w' as the second argument. This is similar to opening a file in write mode by passing 'w' to the open() function."
   ]
  },
  {
   "cell_type": "markdown",
   "metadata": {},
   "source": [
    "#### Create a programme that searches a folder tree for files with a certain file extension (such as .pdf or .jpg). Copy these files from whatever location they are in to a new folder."
   ]
  },
  {
   "cell_type": "code",
   "execution_count": 43,
   "metadata": {},
   "outputs": [],
   "source": [
    "import os, shutil\n",
    "\n",
    "def searchandcopy(folder, extensions, destFolder):\n",
    "    folder = os.path.abspath(folder)\n",
    "    print(folder)\n",
    "    destFolder = os.path.abspath(destFolder)\n",
    "    print('Looking in', folder, 'for files with extensions of', extensions)\n",
    "    for foldername, subfolders, filenames in os.walk(folder):\n",
    "        for filename in filenames:\n",
    "            name, extension = os.path.splitext(filename)\n",
    "            if extension in extensions:                \n",
    "                if extension =='':\n",
    "                    continue\n",
    "                fileAbsPath = foldername + os.path.sep + filename\n",
    "                print('Coping', fileAbsPath, 'to', destFolder)\n",
    "                shutil.copy(fileAbsPath, destFolder)"
   ]
  },
  {
   "cell_type": "code",
   "execution_count": 44,
   "metadata": {},
   "outputs": [
    {
     "name": "stdout",
     "output_type": "stream",
     "text": [
      "C:\\Users\\DELL\\Downloads\n",
      "Looking in C:\\Users\\DELL\\Downloads for files with extensions of .ipynb\n",
      "Coping C:\\Users\\DELL\\Downloads\\Assignment 6.ipynb to D:\\DATA SCIENCE\n",
      "Coping C:\\Users\\DELL\\Downloads\\Assignment 9.ipynb to D:\\DATA SCIENCE\n",
      "Coping C:\\Users\\DELL\\Downloads\\Assingment 8.ipynb to D:\\DATA SCIENCE\n",
      "Coping C:\\Users\\DELL\\Downloads\\carbon_nanotubes data insertion in MySQL.ipynb to D:\\DATA SCIENCE\n",
      "Coping C:\\Users\\DELL\\Downloads\\Cassndra Challanage.ipynb to D:\\DATA SCIENCE\n",
      "Coping C:\\Users\\DELL\\Downloads\\insert glass data without using format().ipynb to D:\\DATA SCIENCE\n",
      "Coping C:\\Users\\DELL\\Downloads\\MySQL Challange.ipynb to D:\\DATA SCIENCE\n",
      "Coping C:\\Users\\DELL\\Downloads\\Untitled11.ipynb to D:\\DATA SCIENCE\n",
      "Coping C:\\Users\\DELL\\Downloads\\Untitled2.ipynb to D:\\DATA SCIENCE\n",
      "Coping C:\\Users\\DELL\\Downloads\\Untitled3.ipynb to D:\\DATA SCIENCE\n",
      "Coping C:\\Users\\DELL\\Downloads\\Untitled7.ipynb to D:\\DATA SCIENCE\n",
      "Coping C:\\Users\\DELL\\Downloads\\Copy files\\Copy files.ipynb to D:\\DATA SCIENCE\n"
     ]
    }
   ],
   "source": [
    "searchandcopy(r'C:\\Users\\DELL\\Downloads','.ipynb','D:\\DATA SCIENCE')"
   ]
  },
  {
   "cell_type": "code",
   "execution_count": null,
   "metadata": {},
   "outputs": [],
   "source": []
  }
 ],
 "metadata": {
  "kernelspec": {
   "display_name": "Python 3",
   "language": "python",
   "name": "python3"
  },
  "language_info": {
   "codemirror_mode": {
    "name": "ipython",
    "version": 3
   },
   "file_extension": ".py",
   "mimetype": "text/x-python",
   "name": "python",
   "nbconvert_exporter": "python",
   "pygments_lexer": "ipython3",
   "version": "3.8.3"
  }
 },
 "nbformat": 4,
 "nbformat_minor": 4
}
