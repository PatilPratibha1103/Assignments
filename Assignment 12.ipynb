{
 "cells": [
  {
   "cell_type": "markdown",
   "metadata": {},
   "source": [
    "### 1.In what modes should the PdfFileReader() and PdfFileWriter() File objects will be opened?\n",
    "Answer : File object passed to PdfFileReader() needs to be opened in read-binary mode by passing 'rb' as the second argument to open(). Likewise, the File object passed to PdfFileWriter() needs to be opened in write-binary mode with 'wb'.\n",
    "\n"
   ]
  },
  {
   "cell_type": "markdown",
   "metadata": {},
   "source": [
    "### 2.From a PdfFileReader object, how do you get a Page object for page 5?\n",
    "Answer : \n",
    "We can get a Page object by calling the getPage() method on a PdfFileReader object and passing it the page number of the page"
   ]
  },
  {
   "cell_type": "markdown",
   "metadata": {},
   "source": [
    "### 3.What PdfFileReader variable stores the number of pages in the PDF document?\n",
    "Answer : \n",
    "The total number of pages in the document is stored in the numPages attribute of a PdfFileReader object."
   ]
  },
  {
   "cell_type": "markdown",
   "metadata": {},
   "source": [
    "### 4.If a PdfFileReader object’s PDF is encrypted with the password swordfish, what must you do\n",
    "before you can obtain Page objects from it?\n",
    "Answer : \n",
    "We can decrypt password encrypted file as follows : \n",
    "pdfReader.decrypt('swordfish')\n"
   ]
  },
  {
   "cell_type": "markdown",
   "metadata": {},
   "source": [
    "### 5.What methods do you use to rotate a page?\n",
    "Answer : \n",
    "1. pdf_page.rotateClockwise(90)  \n",
    "2. \n",
    "\n",
    "doc = PDFDoc(filename)\n",
    "page = doc.GetPage(1)\n",
    "page.SetRotation(rotation)\n",
    "\n",
    "\n"
   ]
  },
  {
   "cell_type": "markdown",
   "metadata": {},
   "source": [
    "### 6. What is the difference between a Run object and a Paragraph object?\n",
    "Answeer: \n",
    "A Run object is a contiguous run of text with the same style. A new Run object is needed whenever the text style changes.\n",
    "Each Paragraph object also has a runs attribute that is a list of Run objects. Run objects also have a text attribute, containing just the text in that particular run.\n",
    "\n",
    "The Document object contains a list of Paragraph objects for the paragraphs in the document. A new paragraph begins whenever the user presses ENTER or RETURN while typing in a Word document."
   ]
  },
  {
   "cell_type": "markdown",
   "metadata": {},
   "source": [
    "### 7. How do you obtain a list of Paragraph objects for a Document object that’s stored in a variable\n",
    "named doc?\n",
    "Answer: docx.Document(file name) will return a Document object, which has a paragraphs attribute that is a list of Paragraph objects."
   ]
  },
  {
   "cell_type": "markdown",
   "metadata": {},
   "source": [
    "### 8. What type of object has bold, underline, italic, strike, and outline variables?\n",
    "Answer : Run object"
   ]
  },
  {
   "cell_type": "markdown",
   "metadata": {},
   "source": [
    "### 9. What is the difference between False, True, and None for the bold variable?\n",
    "Answer  : "
   ]
  },
  {
   "cell_type": "markdown",
   "metadata": {},
   "source": [
    "### 10.How do you create a Document object for a new Word document?\n",
    "Answer :\n",
    "    \n",
    "from docx import Document\n",
    "\n",
    "document = Document()"
   ]
  },
  {
   "cell_type": "markdown",
   "metadata": {},
   "source": [
    "### 11. How do you add a paragraph with the text &#39;Hello, there!&#39; to a Document object stored in a\n",
    "variable named doc?\n",
    "Answer : \n",
    "document.add_paragraph('Hello world!')\n"
   ]
  },
  {
   "cell_type": "markdown",
   "metadata": {},
   "source": [
    "### 12. What integers represent the levels of headings available in Word documents?\n",
    "Answer : Integers 1 to 4 are for various heading levels, with 1 being the main heading and 4 the lowest subheading."
   ]
  },
  {
   "cell_type": "code",
   "execution_count": null,
   "metadata": {},
   "outputs": [],
   "source": []
  }
 ],
 "metadata": {
  "kernelspec": {
   "display_name": "Python 3",
   "language": "python",
   "name": "python3"
  },
  "language_info": {
   "codemirror_mode": {
    "name": "ipython",
    "version": 3
   },
   "file_extension": ".py",
   "mimetype": "text/x-python",
   "name": "python",
   "nbconvert_exporter": "python",
   "pygments_lexer": "ipython3",
   "version": "3.8.3"
  }
 },
 "nbformat": 4,
 "nbformat_minor": 4
}
